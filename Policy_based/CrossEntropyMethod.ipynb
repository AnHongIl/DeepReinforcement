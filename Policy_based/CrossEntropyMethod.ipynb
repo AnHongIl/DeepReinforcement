{
 "cells": [
  {
   "cell_type": "code",
   "execution_count": 1,
   "metadata": {},
   "outputs": [],
   "source": [
    "import gym\n",
    "import tensorflow as tf\n",
    "import numpy as np\n",
    "\n",
    "env = gym.make('CartPole-v0')"
   ]
  },
  {
   "cell_type": "code",
   "execution_count": 6,
   "metadata": {},
   "outputs": [
    {
     "name": "stdout",
     "output_type": "stream",
     "text": [
      "Box(4,)\n",
      "Discrete(2)\n"
     ]
    }
   ],
   "source": [
    "env.reset()\n",
    "print(env.observation_space)\n",
    "print(env.action_space)"
   ]
  },
  {
   "cell_type": "markdown",
   "metadata": {},
   "source": [
    "Cross Entropy Method"
   ]
  },
  {
   "cell_type": "code",
   "execution_count": 7,
   "metadata": {},
   "outputs": [],
   "source": [
    "state_size = 4\n",
    "actions_size = 2\n",
    "learning_rate = 0.001\n",
    "\n",
    "N = 100\n",
    "Elite = 20\n",
    "training_episodes = 1000"
   ]
  },
  {
   "cell_type": "code",
   "execution_count": null,
   "metadata": {},
   "outputs": [],
   "source": [
    "def update_target_graph():\n",
    "    \n",
    "    # Get the parameters of our DQNNetwork\n",
    "    from_vars = tf.get_collection(tf.GraphKeys.TRAINABLE_VARIABLES, \"DQNetwork\")\n",
    "    \n",
    "    # Get the parameters of our Target_network\n",
    "    to_vars = tf.get_collection(tf.GraphKeys.TRAINABLE_VARIABLES, \"TargetNetwork\")\n",
    "\n",
    "    op_holder = []\n",
    "    \n",
    "    # Update our target_network parameters with DQNNetwork parameters\n",
    "    for from_var,to_var in zip(from_vars,to_vars):\n",
    "        op_holder.append(to_var.assign(from_var))\n",
    "    return op_holder"
   ]
  },
  {
   "cell_type": "code",
   "execution_count": null,
   "metadata": {},
   "outputs": [],
   "source": []
  },
  {
   "cell_type": "code",
   "execution_count": 21,
   "metadata": {},
   "outputs": [],
   "source": [
    "class NeuralNetwork:\n",
    "    def __init__(self, name):\n",
    "        with tf.variable_scope(name):\n",
    "            self.name = name\n",
    "            self.input = tf.placeholder(tf.float32, [None, state_size])\n",
    "            self.hidden1 = tf.layers.dense(self.input, 4)\n",
    "            self.hidden2 = tf.layers.dense(self.hidden1, 2)\n",
    "            self.output = tf.layers.dense(self.hidden2, actions_size)\n",
    "    def set_weights(self, from_vars):\n",
    "        to_vars = tf.get_collection(tf.GraphKeys.TRAINABLE_VARIABLES, self.name)\n",
    "        \n",
    "        op_holder = []\n",
    "        \n",
    "        for from_var, to_var in zip(from_vars, to_vars):\n",
    "            op_holder.append(to_var.assign(from_var))\n",
    "        \n",
    "        return op_holder\n",
    "    \n",
    "    def get_vars(self):\n",
    "        this_vars = tf.get_collection(tf.GraphKeys.TRAINABLE_VARIABLES, self.name)\n",
    "        \n",
    "        op_holder = []\n",
    "        for this_var in this_vars:\n",
    "            op_holder.append(this_var)\n",
    "\n",
    "tf.reset_default_graph()\n",
    "NN = NeuralNetwork(\"Best\")"
   ]
  },
  {
   "cell_type": "code",
   "execution_count": null,
   "metadata": {},
   "outputs": [],
   "source": [
    "with tf.Session() as sess:\n",
    "    \n",
    "    \"\"\"\n",
    "    for ep in trainig_episodes:\n",
    "        state = env.reset()\n",
    "    \"\"\""
   ]
  },
  {
   "cell_type": "code",
   "execution_count": null,
   "metadata": {},
   "outputs": [],
   "source": []
  }
 ],
 "metadata": {
  "kernelspec": {
   "display_name": "Python 3",
   "language": "python",
   "name": "python3"
  },
  "language_info": {
   "codemirror_mode": {
    "name": "ipython",
    "version": 3
   },
   "file_extension": ".py",
   "mimetype": "text/x-python",
   "name": "python",
   "nbconvert_exporter": "python",
   "pygments_lexer": "ipython3",
   "version": "3.6.6"
  }
 },
 "nbformat": 4,
 "nbformat_minor": 2
}
