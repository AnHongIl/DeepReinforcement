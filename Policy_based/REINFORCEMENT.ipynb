{
 "cells": [
  {
   "cell_type": "code",
   "execution_count": 1,
   "metadata": {},
   "outputs": [],
   "source": [
    "import gym\n",
    "import tensorflow as tf\n",
    "import numpy as np"
   ]
  },
  {
   "cell_type": "code",
   "execution_count": 3,
   "metadata": {},
   "outputs": [
    {
     "name": "stdout",
     "output_type": "stream",
     "text": [
      "Discrete(2)\n",
      "Box(4,)\n"
     ]
    }
   ],
   "source": [
    "env = gym.make('CartPole-v0')\n",
    "\n",
    "print(env.action_space)\n",
    "print(env.observation_space)"
   ]
  },
  {
   "cell_type": "code",
   "execution_count": null,
   "metadata": {},
   "outputs": [],
   "source": [
    "state_size = 4\n",
    "action_size = 2\n",
    "\n",
    "max_episodes = 1000\n",
    "learning_rate = 0.001\n",
    "gamma = 0.99"
   ]
  },
  {
   "cell_type": "code",
   "execution_count": null,
   "metadata": {},
   "outputs": [],
   "source": [
    "def discount_and_normalize_rewards(episode_rewards):\n",
    "    discounted_episode_rewards = np.zeros_like(episode_rewards)\n",
    "    cumulative = 0.0\n",
    "    \n",
    "    for i in reversed(range(len(episode_rewards))):\n",
    "        cumulative = cumulative * gamma + episode_rewards[i]\n",
    "        discounted_epiosde_rewards[i] = cumulative\n",
    "    \n",
    "    mean = np.mean(discounted_epiosde_rewards)\n",
    "    std = np.std(discounted_episode_rewards)\n",
    "    discounted_episode_rewards = (discounted_episode_rewards - mean) / std\n",
    "    \n",
    "    return discounted_episode_rewards"
   ]
  },
  {
   "cell_type": "code",
   "execution_count": null,
   "metadata": {},
   "outputs": [],
   "source": [
    "class NeuralNetwork():\n",
    "    def __init__(self, name):\n",
    "        with tf.name_scope(name):\n",
    "            inputs = tf.placeholder(tf.float32, [None, state_size], name=\"inputs\")\n",
    "            actions = tf.placeholder(tf.int32, [None, action_size], name=\"actions\")\n",
    "\n",
    "            fc1 = tf.layers.dense(inputs, 20, activation=tf.nn.relu, name='fc1')\n",
    "            fc2 = tf.layers.dense(fc1, 10, activation=tf.nn.relu, name='fc2')\n",
    "            fc3 = tf.layers.dense(fc2, 2, activation=None, name='fc3')            \n",
    "            \n",
    "            output = tf.nn.log_softmax(fc3)\n",
    "            \n",
    "            tf.gradients()\n",
    "\n",
    "with tf.device(\"/device:GPU:0\"):             \n",
    "    tf.reset_default_graph()\n",
    "    NN = NeuralNetwork(\"main\")"
   ]
  },
  {
   "cell_type": "code",
   "execution_count": null,
   "metadata": {},
   "outputs": [],
   "source": []
  },
  {
   "cell_type": "code",
   "execution_count": null,
   "metadata": {},
   "outputs": [],
   "source": [
    "save_file = 'REINFORCEMENT.ckpt'\n",
    "saver = tf.train.Saver()\n",
    "with tf.Session(config=tf.ConfigProto(log_device_placement=True, allow_soft_placement=True)) as sess:    \n",
    "    sess.run(tf.global_variables_initializer())\n",
    "    \n",
    "    for ep in range(max_episodes):\n",
    "        episode_rewards_sum = 0\n",
    "        episode_states = []\n",
    "        episode_actions = []\n",
    "        episode_rewards = []\n",
    "        \n",
    "        state = env.reset()\n",
    "        \n",
    "        while True:\n",
    "            output = sess.run(NN.output, feed_dict={inputs: state.reshape([1, state_size])})\n",
    "            action = np.random.choice(action_size, p=output)\n",
    "            \n",
    "            next_state, reward, done, info = env.step(action)\n",
    "            \n",
    "            #action encoding\n",
    "            actions = np.zeros(action_size)\n",
    "            actions[action] = 1\n",
    "            \n",
    "            episode_states.append(state)            \n",
    "            episode_actions.append(actions)\n",
    "            episode_rewards.append(reward)\n",
    "            \n",
    "            if done:\n",
    "                episode_rewards_sum = np.sum(episode_rewards)\n",
    "                \n",
    "                allRewards.append(episode_rewards_sum)\n",
    "                \n",
    "                total_rewards = np.sum(allRewards)\n",
    "                \n",
    "                mean_reward = np.divide(total_rewards, episode+1)\n",
    "                \n",
    "                maxRewardRecorded = np.amax(allRewards)\n",
    "                \n",
    "                print()\n",
    "                print()\n",
    "                print()\n",
    "                print()\n",
    "                print()\n",
    "                \n",
    "                discounted_episode_rewards = discount_and_normalize_rewards(episode_rewards)\n",
    "                \n",
    "                loss_, _ = sess.run([NN.loss, NN.train_opt], feed_dict={})\n",
    "                break\n",
    "            \n",
    "            state = next_state\n",
    "\n",
    "    \n",
    "    plt.figure(figsize=(30, 4))\n",
    "    x = np.array(range(1, train_episodes+1))\n",
    "    plt.scatter(x, scores, marker='>')        \n",
    "    plt.xlabel(\"Episodes\")\n",
    "    plt.ylabel(\"Scores\")\n",
    "    plt.show()    \n",
    "    \n",
    "    save_path = saver.save(sess, save_file)\n",
    "    print(\"Model saved in path: %s\" % save_path)"
   ]
  },
  {
   "cell_type": "code",
   "execution_count": null,
   "metadata": {},
   "outputs": [],
   "source": [
    "tf.reset_default_graph()\n",
    "\n",
    "with tf.device(\"/device:GPU:0\"):\n",
    "    testNN = NeuralNetwork(name=\"main\")\n",
    "    \n",
    "saver = tf.train.Saver()\n",
    "with tf.Session(config=tf.ConfigProto(log_device_placement=True, allow_soft_placement=True)) as sess:\n",
    "    saver.restore(sess, save_file)\n",
    "    \n",
    "    "
   ]
  }
 ],
 "metadata": {
  "kernelspec": {
   "display_name": "p1",
   "language": "python",
   "name": "p1"
  },
  "language_info": {
   "codemirror_mode": {
    "name": "ipython",
    "version": 3
   },
   "file_extension": ".py",
   "mimetype": "text/x-python",
   "name": "python",
   "nbconvert_exporter": "python",
   "pygments_lexer": "ipython3",
   "version": "3.6.6"
  }
 },
 "nbformat": 4,
 "nbformat_minor": 2
}
